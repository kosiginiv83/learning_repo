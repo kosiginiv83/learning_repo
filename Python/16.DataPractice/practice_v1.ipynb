{
 "cells": [
  {
   "cell_type": "markdown",
   "metadata": {},
   "source": [
    "В файле должны быть сохранены результаты запуска на тестовых данных.\n",
    "\n",
    "Дано: API для данных о футбольных матчах и командах.\n",
    "\n",
    "Используя kmeans сделать кластеризацию футбольных команд по среднему возрасту игроков команды и количеству проигрышей, результат отобразить в виде точечного графика для случая из 3, 4, 5 кластеров.\n"
   ]
  },
  {
   "cell_type": "code",
   "execution_count": 64,
   "metadata": {
    "collapsed": true
   },
   "outputs": [],
   "source": [
    "import requests\n",
    "import pandas as pd\n",
    "import numpy as np\n",
    "import matplotlib.pyplot as plt\n",
    "from scipy.cluster.vq import whiten, kmeans2\n",
    "from pprint import pprint\n",
    "import datetime\n",
    "import math\n",
    "import operator\n",
    "%matplotlib inline"
   ]
  },
  {
   "cell_type": "code",
   "execution_count": 65,
   "metadata": {
    "collapsed": true
   },
   "outputs": [],
   "source": [
    "def call_api(uri, result_key):\n",
    "    json = {}\n",
    "    try:\n",
    "        json = requests.get(uri, headers={'X-Auth-Token': '156809c82dae43b2b24c75429b9140ed'}).json()\n",
    "        return json[result_key]\n",
    "    except:\n",
    "        print(json)\n",
    "        return None"
   ]
  },
  {
   "cell_type": "code",
   "execution_count": 90,
   "metadata": {},
   "outputs": [],
   "source": [
    "teams = call_api('http://api.football-data.org/v1/soccerseasons/439/teams', 'teams')"
   ]
  },
  {
   "cell_type": "code",
   "execution_count": 67,
   "metadata": {
    "collapsed": true
   },
   "outputs": [],
   "source": [
    "def get_age(birth_raw):\n",
    "    now = datetime.datetime.today()\n",
    "    birth = datetime.datetime.strptime(birth_raw, '%Y-%m-%d')\n",
    "    age_raw = now - birth\n",
    "    age = age_raw.days / 365\n",
    "    return age"
   ]
  },
  {
   "cell_type": "code",
   "execution_count": 68,
   "metadata": {
    "collapsed": true
   },
   "outputs": [],
   "source": [
    "def lose_or_not(goals_away, relate, goals_home):\n",
    "    if goals_away == goals_home:\n",
    "        return 0\n",
    "    elif relate(goals_away, goals_home):\n",
    "        return 1\n",
    "    else:\n",
    "        return 0"
   ]
  },
  {
   "cell_type": "code",
   "execution_count": 91,
   "metadata": {
    "scrolled": true
   },
   "outputs": [
    {
     "name": "stdout",
     "output_type": "stream",
     "text": [
      "Team \"FC Rio Ave\", 25 average age, 4 loses\n",
      "Team \"FC Porto\", 27 average age, 2 loses\n",
      "Team \"Moreirense FC\", 24 average age, 6 loses\n",
      "Team \"FC Paços de Ferreira\", 26 average age, 5 loses\n",
      "Team \"Sporting CP\", 26 average age, 2 loses\n",
      "Team \"Maritimo Funchal\", 26 average age, 3 loses\n",
      "Team \"CD Tondela\", 26 average age, 5 loses\n",
      "Team \"SL Benfica\", 26 average age, 5 loses\n",
      "Team \"Boavista Porto FC\", 25 average age, 6 loses\n",
      "Team \"FC Arouca\", 27 average age, 0 loses\n",
      "Team \"Vitoria Setubal\", 25 average age, 5 loses\n",
      "Team \"C.F. Os Belenenses\", 27 average age, 5 loses\n",
      "Team \"Vitoria Guimaraes\", 25 average age, 5 loses\n",
      "Team \"Sporting Braga\", 24 average age, 3 loses\n",
      "Team \"GD Estoril Praia\", 24 average age, 9 loses\n",
      "Team \"Feirense\", 25 average age, 6 loses\n",
      "Team \"Nacional Funchal\", 26 average age, 0 loses\n",
      "Team \"G.D. Chaves\", 27 average age, 6 loses\n"
     ]
    }
   ],
   "source": [
    "for team in teams:\n",
    "    players = call_api(team['_links']['players']['href'], 'players')\n",
    "    fixtures = call_api(team['_links']['fixtures']['href'], 'fixtures')\n",
    "    \n",
    "    age_list = []\n",
    "    for player in players:\n",
    "        age = get_age(player['dateOfBirth'])\n",
    "        age_list.append(age)\n",
    "    average_age = sum(age_list) / len(age_list)\n",
    "    \n",
    "    loses = 0\n",
    "    for f in fixtures:\n",
    "        goals_away = f['result']['goalsAwayTeam']\n",
    "        goals_home = f['result']['goalsHomeTeam']\n",
    "        if team['name'] == f['homeTeamName']:\n",
    "            loses += lose_or_not(goals_away, operator.gt, goals_home)\n",
    "        else:\n",
    "            loses += lose_or_not(goals_away, operator.lt, goals_home)\n",
    "            \n",
    "    print(f\"Team \\\"{team['name']}\\\", {int(average_age)} average age, {loses} loses\")\n",
    "    team['average_age'] = average_age\n",
    "    team['loses'] = loses"
   ]
  },
  {
   "cell_type": "code",
   "execution_count": 77,
   "metadata": {},
   "outputs": [
    {
     "data": {
      "text/plain": [
       "[{'average_age': 25.520446473871136, 'loses': 4, 'name': 'FC Rio Ave'},\n",
       " {'average_age': 27.04394520547944, 'loses': 2, 'name': 'FC Porto'},\n",
       " {'average_age': 24.962524461839536, 'loses': 6, 'name': 'Moreirense FC'},\n",
       " {'average_age': 26.494731296101158,\n",
       "  'loses': 5,\n",
       "  'name': 'FC Paços de Ferreira'},\n",
       " {'average_age': 26.272349061390166, 'loses': 2, 'name': 'Sporting CP'},\n",
       " {'average_age': 26.410014170996696, 'loses': 3, 'name': 'Maritimo Funchal'},\n",
       " {'average_age': 26.03074581430745, 'loses': 5, 'name': 'CD Tondela'},\n",
       " {'average_age': 26.23411400795405, 'loses': 5, 'name': 'SL Benfica'},\n",
       " {'average_age': 25.557052943354318, 'loses': 6, 'name': 'Boavista Porto FC'},\n",
       " {'average_age': 27.56973848069739, 'loses': 0, 'name': 'FC Arouca'},\n",
       " {'average_age': 25.86707255200406, 'loses': 5, 'name': 'Vitoria Setubal'},\n",
       " {'average_age': 27.075342465753426, 'loses': 5, 'name': 'C.F. Os Belenenses'},\n",
       " {'average_age': 25.359013698630136, 'loses': 5, 'name': 'Vitoria Guimaraes'},\n",
       " {'average_age': 24.885903667697743, 'loses': 3, 'name': 'Sporting Braga'},\n",
       " {'average_age': 24.360371819960864, 'loses': 9, 'name': 'GD Estoril Praia'},\n",
       " {'average_age': 25.927066603684462, 'loses': 6, 'name': 'Feirense'},\n",
       " {'average_age': 26.503348554033483, 'loses': 0, 'name': 'Nacional Funchal'},\n",
       " {'average_age': 27.2106301369863, 'loses': 6, 'name': 'G.D. Chaves'}]"
      ]
     },
     "execution_count": 77,
     "metadata": {},
     "output_type": "execute_result"
    }
   ],
   "source": [
    "team_for_pd = []\n",
    "for team in teams:\n",
    "    team_for_pd.append({'name': team['name'], 'average_age': team['average_age'], 'loses': team['loses']})\n",
    "team_for_pd"
   ]
  },
  {
   "cell_type": "code",
   "execution_count": 78,
   "metadata": {},
   "outputs": [
    {
     "data": {
      "text/html": [
       "<div>\n",
       "<style>\n",
       "    .dataframe thead tr:only-child th {\n",
       "        text-align: right;\n",
       "    }\n",
       "\n",
       "    .dataframe thead th {\n",
       "        text-align: left;\n",
       "    }\n",
       "\n",
       "    .dataframe tbody tr th {\n",
       "        vertical-align: top;\n",
       "    }\n",
       "</style>\n",
       "<table border=\"1\" class=\"dataframe\">\n",
       "  <thead>\n",
       "    <tr style=\"text-align: right;\">\n",
       "      <th></th>\n",
       "      <th>average_age</th>\n",
       "      <th>loses</th>\n",
       "    </tr>\n",
       "  </thead>\n",
       "  <tbody>\n",
       "    <tr>\n",
       "      <th>0</th>\n",
       "      <td>25.520446</td>\n",
       "      <td>4</td>\n",
       "    </tr>\n",
       "    <tr>\n",
       "      <th>1</th>\n",
       "      <td>27.043945</td>\n",
       "      <td>2</td>\n",
       "    </tr>\n",
       "    <tr>\n",
       "      <th>2</th>\n",
       "      <td>24.962524</td>\n",
       "      <td>6</td>\n",
       "    </tr>\n",
       "    <tr>\n",
       "      <th>3</th>\n",
       "      <td>26.494731</td>\n",
       "      <td>5</td>\n",
       "    </tr>\n",
       "    <tr>\n",
       "      <th>4</th>\n",
       "      <td>26.272349</td>\n",
       "      <td>2</td>\n",
       "    </tr>\n",
       "    <tr>\n",
       "      <th>5</th>\n",
       "      <td>26.410014</td>\n",
       "      <td>3</td>\n",
       "    </tr>\n",
       "    <tr>\n",
       "      <th>6</th>\n",
       "      <td>26.030746</td>\n",
       "      <td>5</td>\n",
       "    </tr>\n",
       "    <tr>\n",
       "      <th>7</th>\n",
       "      <td>26.234114</td>\n",
       "      <td>5</td>\n",
       "    </tr>\n",
       "    <tr>\n",
       "      <th>8</th>\n",
       "      <td>25.557053</td>\n",
       "      <td>6</td>\n",
       "    </tr>\n",
       "    <tr>\n",
       "      <th>9</th>\n",
       "      <td>27.569738</td>\n",
       "      <td>0</td>\n",
       "    </tr>\n",
       "    <tr>\n",
       "      <th>10</th>\n",
       "      <td>25.867073</td>\n",
       "      <td>5</td>\n",
       "    </tr>\n",
       "    <tr>\n",
       "      <th>11</th>\n",
       "      <td>27.075342</td>\n",
       "      <td>5</td>\n",
       "    </tr>\n",
       "    <tr>\n",
       "      <th>12</th>\n",
       "      <td>25.359014</td>\n",
       "      <td>5</td>\n",
       "    </tr>\n",
       "    <tr>\n",
       "      <th>13</th>\n",
       "      <td>24.885904</td>\n",
       "      <td>3</td>\n",
       "    </tr>\n",
       "    <tr>\n",
       "      <th>14</th>\n",
       "      <td>24.360372</td>\n",
       "      <td>9</td>\n",
       "    </tr>\n",
       "    <tr>\n",
       "      <th>15</th>\n",
       "      <td>25.927067</td>\n",
       "      <td>6</td>\n",
       "    </tr>\n",
       "    <tr>\n",
       "      <th>16</th>\n",
       "      <td>26.503349</td>\n",
       "      <td>0</td>\n",
       "    </tr>\n",
       "    <tr>\n",
       "      <th>17</th>\n",
       "      <td>27.210630</td>\n",
       "      <td>6</td>\n",
       "    </tr>\n",
       "  </tbody>\n",
       "</table>\n",
       "</div>"
      ],
      "text/plain": [
       "    average_age  loses\n",
       "0     25.520446      4\n",
       "1     27.043945      2\n",
       "2     24.962524      6\n",
       "3     26.494731      5\n",
       "4     26.272349      2\n",
       "5     26.410014      3\n",
       "6     26.030746      5\n",
       "7     26.234114      5\n",
       "8     25.557053      6\n",
       "9     27.569738      0\n",
       "10    25.867073      5\n",
       "11    27.075342      5\n",
       "12    25.359014      5\n",
       "13    24.885904      3\n",
       "14    24.360372      9\n",
       "15    25.927067      6\n",
       "16    26.503349      0\n",
       "17    27.210630      6"
      ]
     },
     "execution_count": 78,
     "metadata": {},
     "output_type": "execute_result"
    }
   ],
   "source": [
    "teams_pd = pd.DataFrame(team_for_pd)\n",
    "del teams_pd['name']\n",
    "teams_pd"
   ]
  },
  {
   "cell_type": "code",
   "execution_count": 79,
   "metadata": {},
   "outputs": [
    {
     "data": {
      "text/plain": [
       "array([[ 30.32712814,   1.81307867],\n",
       "       [ 32.13757222,   0.90653934],\n",
       "       [ 29.66412358,   2.71961801],\n",
       "       [ 31.4849159 ,   2.26634834],\n",
       "       [ 31.22064879,   0.90653934],\n",
       "       [ 31.38424262,   1.35980901],\n",
       "       [ 30.93354047,   2.26634834],\n",
       "       [ 31.17521231,   2.26634834],\n",
       "       [ 30.3706293 ,   2.71961801],\n",
       "       [ 32.76239671,   0.        ],\n",
       "       [ 30.73903995,   2.26634834],\n",
       "       [ 32.17488304,   2.26634834],\n",
       "       [ 30.1352901 ,   2.26634834],\n",
       "       [ 29.57307154,   1.35980901],\n",
       "       [ 28.94855771,   4.07942702],\n",
       "       [ 30.81033366,   2.71961801],\n",
       "       [ 31.49515619,   0.        ],\n",
       "       [ 32.33565164,   2.71961801]])"
      ]
     },
     "execution_count": 79,
     "metadata": {},
     "output_type": "execute_result"
    }
   ],
   "source": [
    "whitened = whiten(teams_pd.as_matrix())\n",
    "whitened"
   ]
  },
  {
   "cell_type": "markdown",
   "metadata": {},
   "source": [
    "5 кластеров"
   ]
  },
  {
   "cell_type": "code",
   "execution_count": 81,
   "metadata": {
    "scrolled": true
   },
   "outputs": [
    {
     "data": {
      "text/plain": [
       "(array([[ 30.64159628,   2.33110115],\n",
       "        [ 32.76239671,   0.        ],\n",
       "        [ 29.39525094,   2.71961801],\n",
       "        [ 31.99848352,   2.41743823],\n",
       "        [ 31.55940495,   0.79322192]]),\n",
       " array([0, 4, 2, 3, 4, 4, 0, 0, 0, 1, 0, 3, 0, 2, 2, 0, 4, 3]))"
      ]
     },
     "execution_count": 81,
     "metadata": {},
     "output_type": "execute_result"
    }
   ],
   "source": [
    "centroids, cluster_map = kmeans2(whitened, 5)\n",
    "centroids, cluster_map"
   ]
  },
  {
   "cell_type": "code",
   "execution_count": 82,
   "metadata": {
    "scrolled": true
   },
   "outputs": [],
   "source": [
    "colors_map = {0: 'r', 1: 'g', 2: 'b', 3: 'y', 4: 'm'}\n",
    "colors = [colors_map[c] for c in cluster_map]"
   ]
  },
  {
   "cell_type": "code",
   "execution_count": 83,
   "metadata": {},
   "outputs": [
    {
     "data": {
      "text/plain": [
       "<matplotlib.axes._subplots.AxesSubplot at 0x2028cecc6a0>"
      ]
     },
     "execution_count": 83,
     "metadata": {},
     "output_type": "execute_result"
    },
    {
     "data": {
      "image/png": "[encoded data removed]",
      "text/plain": [
       "<matplotlib.figure.Figure at 0x2028ceca780>"
      ]
     },
     "metadata": {},
     "output_type": "display_data"
    }
   ],
   "source": [
    "teams_pd.plot.scatter(x='average_age', y='loses', c=colors, s=100)"
   ]
  },
  {
   "cell_type": "markdown",
   "metadata": {},
   "source": [
    "3 кластера"
   ]
  },
  {
   "cell_type": "code",
   "execution_count": 84,
   "metadata": {},
   "outputs": [
    {
     "data": {
      "text/plain": [
       "(array([[ 31.80000331,   0.63457754],\n",
       "        [ 30.91451782,   2.26634834],\n",
       "        [ 29.30634065,   3.39952251]]),\n",
       " array([1, 0, 2, 1, 0, 0, 1, 1, 1, 0, 1, 1, 1, 1, 2, 1, 0, 1]))"
      ]
     },
     "execution_count": 84,
     "metadata": {},
     "output_type": "execute_result"
    }
   ],
   "source": [
    "centroids, cluster_map = kmeans2(whitened, 3)\n",
    "centroids, cluster_map"
   ]
  },
  {
   "cell_type": "code",
   "execution_count": 85,
   "metadata": {},
   "outputs": [],
   "source": [
    "colors_map = {0: 'r', 1: 'g', 2: 'b'}\n",
    "colors = [colors_map[c] for c in cluster_map]"
   ]
  },
  {
   "cell_type": "code",
   "execution_count": 86,
   "metadata": {},
   "outputs": [
    {
     "data": {
      "text/plain": [
       "<matplotlib.axes._subplots.AxesSubplot at 0x2028cebfb70>"
      ]
     },
     "execution_count": 86,
     "metadata": {},
     "output_type": "execute_result"
    },
    {
     "data": {
      "image/png": "[encoded data removed]",
      "text/plain": [
       "<matplotlib.figure.Figure at 0x2028cd8c6a0>"
      ]
     },
     "metadata": {},
     "output_type": "display_data"
    }
   ],
   "source": [
    "teams_pd.plot.scatter(x='average_age', y='loses', c=colors, s=100)"
   ]
  },
  {
   "cell_type": "markdown",
   "metadata": {},
   "source": [
    "4 кластера"
   ]
  },
  {
   "cell_type": "code",
   "execution_count": 87,
   "metadata": {},
   "outputs": [
    {
     "data": {
      "text/plain": [
       "(array([[ 31.55940495,   0.79322192],\n",
       "        [ 32.76239671,   0.        ],\n",
       "        [ 31.79266572,   2.37966576],\n",
       "        [ 30.16685716,   2.46780153]]),\n",
       " array([3, 0, 3, 2, 0, 0, 3, 2, 3, 1, 3, 2, 3, 3, 3, 3, 0, 2]))"
      ]
     },
     "execution_count": 87,
     "metadata": {},
     "output_type": "execute_result"
    }
   ],
   "source": [
    "centroids, cluster_map = kmeans2(whitened, 4)\n",
    "centroids, cluster_map"
   ]
  },
  {
   "cell_type": "code",
   "execution_count": 88,
   "metadata": {
    "collapsed": true
   },
   "outputs": [],
   "source": [
    "colors_map = {0: 'r', 1: 'g', 2: 'b', 3: 'y'}\n",
    "colors = [colors_map[c] for c in cluster_map]"
   ]
  },
  {
   "cell_type": "code",
   "execution_count": 89,
   "metadata": {},
   "outputs": [
    {
     "data": {
      "text/plain": [
       "<matplotlib.axes._subplots.AxesSubplot at 0x2028cf792e8>"
      ]
     },
     "execution_count": 89,
     "metadata": {},
     "output_type": "execute_result"
    },
    {
     "data": {
      "image/png": "[encoded data removed]",
      "text/plain": [
       "<matplotlib.figure.Figure at 0x2028cf4f710>"
      ]
     },
     "metadata": {},
     "output_type": "display_data"
    }
   ],
   "source": [
    "teams_pd.plot.scatter(x='average_age', y='loses', c=colors, s=100)"
   ]
  }
 ],
 "metadata": {
  "kernelspec": {
   "display_name": "Python 3",
   "language": "python",
   "name": "python3"
  },
  "language_info": {
   "codemirror_mode": {
    "name": "ipython",
    "version": 3
   },
   "file_extension": ".py",
   "mimetype": "text/x-python",
   "name": "python",
   "nbconvert_exporter": "python",
   "pygments_lexer": "ipython3",
   "version": "3.6.3"
  }
 },
 "nbformat": 4,
 "nbformat_minor": 2
}
