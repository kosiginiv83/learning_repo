{
 "cells": [
  {
   "cell_type": "markdown",
   "metadata": {},
   "source": [
    "В файле должны быть сохранены результаты запуска на тестовых данных.\n",
    "\n",
    "Дано: API для данных о футбольных матчах и командах.\n",
    "\n",
    "Используя kmeans сделать кластеризацию футбольных команд по среднему возрасту игроков команды и количеству проигрышей, результат отобразить в виде точечного графика для случая из 3, 4, 5 кластеров.\n"
   ]
  },
  {
   "cell_type": "code",
   "execution_count": 102,
   "metadata": {},
   "outputs": [],
   "source": [
    "import datetime\n",
    "import math\n",
    "import requests\n",
    "import time\n",
    "\n",
    "import pandas as pd\n",
    "import numpy as np\n",
    "import matplotlib.pyplot as plt\n",
    "\n",
    "from scipy.cluster.vq import whiten, kmeans2\n",
    "from pprint import pprint\n",
    "\n",
    "%matplotlib inline"
   ]
  },
  {
   "cell_type": "code",
   "execution_count": 103,
   "metadata": {},
   "outputs": [],
   "source": [
    "def call_api(uri, result_key):\n",
    "    json = {}\n",
    "    try:\n",
    "        json = requests.get(uri, headers={'X-Auth-Token': '156809c82dae43b2b24c75429b9140ed'}).json()\n",
    "        return json[result_key]\n",
    "    except:\n",
    "        print('Error response:', json)\n",
    "        return None"
   ]
  },
  {
   "cell_type": "code",
   "execution_count": 105,
   "metadata": {},
   "outputs": [
    {
     "name": "stdout",
     "output_type": "stream",
     "text": [
      "Матчей: 382\n",
      "{'awayTeam': {'id': 511, 'name': 'Toulouse FC'},\n",
      " 'group': 'Regular Season',\n",
      " 'homeTeam': {'id': 516, 'name': 'Olympique de Marseille'},\n",
      " 'id': 238996,\n",
      " 'lastUpdated': '2019-03-30T19:32:48Z',\n",
      " 'matchday': 1,\n",
      " 'referees': [{'id': 43886, 'name': 'Ruddy Buquet', 'nationality': None},\n",
      "              {'id': 43915, 'name': 'Guillaume Debart', 'nationality': None},\n",
      "              {'id': 15547, 'name': 'Julien Pacelli', 'nationality': None},\n",
      "              {'id': 57073, 'name': 'Pignard Jérémie', 'nationality': None},\n",
      "              {'id': 9374, 'name': 'Clément Turpin', 'nationality': None}],\n",
      " 'score': {'duration': 'REGULAR',\n",
      "           'extraTime': {'awayTeam': None, 'homeTeam': None},\n",
      "           'fullTime': {'awayTeam': 0, 'homeTeam': 4},\n",
      "           'halfTime': {'awayTeam': 0, 'homeTeam': 1},\n",
      "           'penalties': {'awayTeam': None, 'homeTeam': None},\n",
      "           'winner': 'HOME_TEAM'},\n",
      " 'season': {'currentMatchday': 38,\n",
      "            'endDate': '2019-05-25',\n",
      "            'id': 177,\n",
      "            'startDate': '2018-08-10'},\n",
      " 'stage': 'REGULAR_SEASON',\n",
      " 'status': 'FINISHED',\n",
      " 'utcDate': '2018-08-10T18:45:00Z'}\n"
     ]
    }
   ],
   "source": [
    "matches = call_api('https://api.football-data.org/v2/competitions/FL1/matches', 'matches')\n",
    "print('Матчей:', len(matches))\n",
    "pprint(matches[0])"
   ]
  },
  {
   "cell_type": "code",
   "execution_count": 106,
   "metadata": {},
   "outputs": [
    {
     "name": "stdout",
     "output_type": "stream",
     "text": [
      "Команд: 21\n",
      "{511: {'average_age': None, 'loses': 16, 'name': 'Toulouse FC'},\n",
      " 514: {'average_age': None, 'loses': 19, 'name': 'SM Caen'},\n",
      " 516: {'average_age': None, 'loses': 13, 'name': 'Olympique de Marseille'},\n",
      " 518: {'average_age': None, 'loses': 9, 'name': 'Montpellier HSC'},\n",
      " 521: {'average_age': None, 'loses': 7, 'name': 'Lille OSC'},\n",
      " 522: {'average_age': None, 'loses': 12, 'name': \"OGC de Nice Côte d'Azur\"},\n",
      " 523: {'average_age': None, 'loses': 8, 'name': 'Olympique Lyonnais'},\n",
      " 524: {'average_age': None, 'loses': 5, 'name': 'Paris Saint-Germain FC'},\n",
      " 526: {'average_age': None, 'loses': 17, 'name': 'FC Girondins de Bordeaux'},\n",
      " 527: {'average_age': None, 'loses': 10, 'name': 'AS Saint-Étienne'},\n",
      " 528: {'average_age': None, 'loses': 22, 'name': \"Dijon Football Côte d'Or\"},\n",
      " 529: {'average_age': None, 'loses': 12, 'name': 'Stade Rennais FC 1901'},\n",
      " 530: {'average_age': None, 'loses': 18, 'name': 'Amiens SC'},\n",
      " 532: {'average_age': None, 'loses': 12, 'name': 'Angers SCO'},\n",
      " 538: {'average_age': None, 'loses': 21, 'name': 'En Avant Guingamp'},\n",
      " 543: {'average_age': None, 'loses': 16, 'name': 'FC Nantes'},\n",
      " 546: {'average_age': None, 'loses': 0, 'name': 'Racing Club de Lens'},\n",
      " 547: {'average_age': None, 'loses': 9, 'name': 'Stade de Reims'},\n",
      " 548: {'average_age': None, 'loses': 18, 'name': 'AS Monaco FC'},\n",
      " 556: {'average_age': None, 'loses': 15, 'name': 'Nîmes Olympique'},\n",
      " 576: {'average_age': None, 'loses': 11, 'name': 'RC Strasbourg Alsace'}}\n"
     ]
    }
   ],
   "source": [
    "data = dict()\n",
    "for match in matches:\n",
    "    away_team_id = match['awayTeam']['id']\n",
    "    home_team_id = match['homeTeam']['id']\n",
    "    result = match['score']['winner']\n",
    "    if away_team_id not in data.keys():\n",
    "        data[away_team_id] = {'name': match['awayTeam']['name'], 'loses': 0, 'average_age': None}\n",
    "    if home_team_id not in data.keys():\n",
    "        data[home_team_id] = {'name': match['homeTeam']['name'], 'loses': 0, 'average_age': None}\n",
    "    if result == 'DRAW':\n",
    "        continue\n",
    "    elif result == 'HOME_TEAM':\n",
    "        data[away_team_id]['loses'] += 1\n",
    "    elif result == 'AWAY_TEAM':\n",
    "        data[home_team_id]['loses'] += 1\n",
    "        \n",
    "print('Команд:', len(data))\n",
    "pprint(data)"
   ]
  },
  {
   "cell_type": "code",
   "execution_count": 107,
   "metadata": {
    "scrolled": false
   },
   "outputs": [
    {
     "name": "stdout",
     "output_type": "stream",
     "text": [
      "[{'countryOfBirth': 'France',\n",
      "  'dateOfBirth': '1991-06-03T00:00:00Z',\n",
      "  'id': 8290,\n",
      "  'name': 'Marc Vidal',\n",
      "  'nationality': 'France',\n",
      "  'position': 'Goalkeeper',\n",
      "  'role': 'PLAYER',\n",
      "  'shirtNumber': 16},\n",
      " {'countryOfBirth': 'Uruguay',\n",
      "  'dateOfBirth': '1988-03-27T00:00:00Z',\n",
      "  'id': 8291,\n",
      "  'name': 'Mauro Goicoechea',\n",
      "  'nationality': 'Uruguay',\n",
      "  'position': 'Goalkeeper',\n",
      "  'role': 'PLAYER',\n",
      "  'shirtNumber': 1},\n",
      " {'countryOfBirth': 'France',\n",
      "  'dateOfBirth': '1990-10-28T00:00:00Z',\n",
      "  'id': 8553,\n",
      "  'name': 'Baptiste Reynet',\n",
      "  'nationality': 'France',\n",
      "  'position': 'Goalkeeper',\n",
      "  'role': 'PLAYER',\n",
      "  'shirtNumber': 30}]\n"
     ]
    }
   ],
   "source": [
    "players = call_api('https://api.football-data.org/v2/teams/511', 'squad')\n",
    "pprint(players[:3])"
   ]
  },
  {
   "cell_type": "code",
   "execution_count": 108,
   "metadata": {},
   "outputs": [],
   "source": [
    "def get_age(birth_raw):\n",
    "    now = datetime.datetime.today()\n",
    "    birth = datetime.datetime.strptime(birth_raw, '%Y-%m-%d')\n",
    "    age_raw = now - birth\n",
    "    age = age_raw.days / 365\n",
    "    return age"
   ]
  },
  {
   "cell_type": "code",
   "execution_count": 109,
   "metadata": {
    "scrolled": true
   },
   "outputs": [
    {
     "name": "stdout",
     "output_type": "stream",
     "text": [
      "Error response: {'message': 'You reached your request limit. Wait 44 seconds.', 'errorCode': 429}\n",
      "Waiting\n"
     ]
    }
   ],
   "source": [
    "for team_id in data.keys():\n",
    "    while not data[team_id]['average_age']:\n",
    "        try:\n",
    "            players = call_api(f'https://api.football-data.org/v2/teams/{team_id}', 'squad')\n",
    "            age_list = []\n",
    "            for player in players:\n",
    "                dateOfBirth = player['dateOfBirth'].split('T')\n",
    "                age = get_age(dateOfBirth[0])\n",
    "                age_list.append(age)\n",
    "            average_age = sum(age_list) / len(age_list)\n",
    "            data[team_id]['average_age'] = average_age\n",
    "        except:\n",
    "            print('Waiting')\n",
    "            time.sleep(60)"
   ]
  },
  {
   "cell_type": "code",
   "execution_count": 110,
   "metadata": {},
   "outputs": [
    {
     "data": {
      "text/plain": [
       "[{'average_age': 26.58506407423773, 'loses': 16, 'name': 'Toulouse FC'},\n",
       " {'average_age': 27.95264187866928,\n",
       "  'loses': 13,\n",
       "  'name': 'Olympique de Marseille'},\n",
       " {'average_age': 24.563810130614836, 'loses': 18, 'name': 'AS Monaco FC'},\n",
       " {'average_age': 27.49448352462051, 'loses': 16, 'name': 'FC Nantes'},\n",
       " {'average_age': 27.447193990278397,\n",
       "  'loses': 22,\n",
       "  'name': \"Dijon Football Côte d'Or\"},\n",
       " {'average_age': 27.662571807335397, 'loses': 9, 'name': 'Montpellier HSC'},\n",
       " {'average_age': 24.777064579256358,\n",
       "  'loses': 12,\n",
       "  'name': 'Stade Rennais FC 1901'},\n",
       " {'average_age': 26.002739726027396, 'loses': 7, 'name': 'Lille OSC'},\n",
       " {'average_age': 26.710958904109585, 'loses': 21, 'name': 'En Avant Guingamp'},\n",
       " {'average_age': 26.540239726027398, 'loses': 10, 'name': 'AS Saint-Étienne'},\n",
       " {'average_age': 27.161062681610627, 'loses': 9, 'name': 'Stade de Reims'},\n",
       " {'average_age': 24.77195385724585,\n",
       "  'loses': 12,\n",
       "  'name': \"OGC de Nice Côte d'Azur\"},\n",
       " {'average_age': 26.588184931506845, 'loses': 15, 'name': 'Nîmes Olympique'},\n",
       " {'average_age': 28.836558219178073, 'loses': 12, 'name': 'Angers SCO'},\n",
       " {'average_age': 28.295606991025036, 'loses': 18, 'name': 'Amiens SC'},\n",
       " {'average_age': 26.632705479452056, 'loses': 8, 'name': 'Olympique Lyonnais'},\n",
       " {'average_age': 27.408219178082195,\n",
       "  'loses': 11,\n",
       "  'name': 'RC Strasbourg Alsace'},\n",
       " {'average_age': 24.946832191780825,\n",
       "  'loses': 17,\n",
       "  'name': 'FC Girondins de Bordeaux'},\n",
       " {'average_age': 27.431545988258318, 'loses': 19, 'name': 'SM Caen'},\n",
       " {'average_age': 25.815554573574893,\n",
       "  'loses': 5,\n",
       "  'name': 'Paris Saint-Germain FC'},\n",
       " {'average_age': 27.63569048500555, 'loses': 0, 'name': 'Racing Club de Lens'}]"
      ]
     },
     "execution_count": 110,
     "metadata": {},
     "output_type": "execute_result"
    }
   ],
   "source": [
    "team_for_pd = [ x for x in data.values() ]\n",
    "team_for_pd"
   ]
  },
  {
   "cell_type": "code",
   "execution_count": 111,
   "metadata": {},
   "outputs": [
    {
     "data": {
      "text/html": [
       "<div>\n",
       "<style>\n",
       "    .dataframe thead tr:only-child th {\n",
       "        text-align: right;\n",
       "    }\n",
       "\n",
       "    .dataframe thead th {\n",
       "        text-align: left;\n",
       "    }\n",
       "\n",
       "    .dataframe tbody tr th {\n",
       "        vertical-align: top;\n",
       "    }\n",
       "</style>\n",
       "<table border=\"1\" class=\"dataframe\">\n",
       "  <thead>\n",
       "    <tr style=\"text-align: right;\">\n",
       "      <th></th>\n",
       "      <th>average_age</th>\n",
       "      <th>loses</th>\n",
       "    </tr>\n",
       "  </thead>\n",
       "  <tbody>\n",
       "    <tr>\n",
       "      <th>0</th>\n",
       "      <td>26.585064</td>\n",
       "      <td>16</td>\n",
       "    </tr>\n",
       "    <tr>\n",
       "      <th>1</th>\n",
       "      <td>27.952642</td>\n",
       "      <td>13</td>\n",
       "    </tr>\n",
       "    <tr>\n",
       "      <th>2</th>\n",
       "      <td>24.563810</td>\n",
       "      <td>18</td>\n",
       "    </tr>\n",
       "    <tr>\n",
       "      <th>3</th>\n",
       "      <td>27.494484</td>\n",
       "      <td>16</td>\n",
       "    </tr>\n",
       "    <tr>\n",
       "      <th>4</th>\n",
       "      <td>27.447194</td>\n",
       "      <td>22</td>\n",
       "    </tr>\n",
       "    <tr>\n",
       "      <th>5</th>\n",
       "      <td>27.662572</td>\n",
       "      <td>9</td>\n",
       "    </tr>\n",
       "    <tr>\n",
       "      <th>6</th>\n",
       "      <td>24.777065</td>\n",
       "      <td>12</td>\n",
       "    </tr>\n",
       "    <tr>\n",
       "      <th>7</th>\n",
       "      <td>26.002740</td>\n",
       "      <td>7</td>\n",
       "    </tr>\n",
       "    <tr>\n",
       "      <th>8</th>\n",
       "      <td>26.710959</td>\n",
       "      <td>21</td>\n",
       "    </tr>\n",
       "    <tr>\n",
       "      <th>9</th>\n",
       "      <td>26.540240</td>\n",
       "      <td>10</td>\n",
       "    </tr>\n",
       "    <tr>\n",
       "      <th>10</th>\n",
       "      <td>27.161063</td>\n",
       "      <td>9</td>\n",
       "    </tr>\n",
       "    <tr>\n",
       "      <th>11</th>\n",
       "      <td>24.771954</td>\n",
       "      <td>12</td>\n",
       "    </tr>\n",
       "    <tr>\n",
       "      <th>12</th>\n",
       "      <td>26.588185</td>\n",
       "      <td>15</td>\n",
       "    </tr>\n",
       "    <tr>\n",
       "      <th>13</th>\n",
       "      <td>28.836558</td>\n",
       "      <td>12</td>\n",
       "    </tr>\n",
       "    <tr>\n",
       "      <th>14</th>\n",
       "      <td>28.295607</td>\n",
       "      <td>18</td>\n",
       "    </tr>\n",
       "    <tr>\n",
       "      <th>15</th>\n",
       "      <td>26.632705</td>\n",
       "      <td>8</td>\n",
       "    </tr>\n",
       "    <tr>\n",
       "      <th>16</th>\n",
       "      <td>27.408219</td>\n",
       "      <td>11</td>\n",
       "    </tr>\n",
       "    <tr>\n",
       "      <th>17</th>\n",
       "      <td>24.946832</td>\n",
       "      <td>17</td>\n",
       "    </tr>\n",
       "    <tr>\n",
       "      <th>18</th>\n",
       "      <td>27.431546</td>\n",
       "      <td>19</td>\n",
       "    </tr>\n",
       "    <tr>\n",
       "      <th>19</th>\n",
       "      <td>25.815555</td>\n",
       "      <td>5</td>\n",
       "    </tr>\n",
       "    <tr>\n",
       "      <th>20</th>\n",
       "      <td>27.635690</td>\n",
       "      <td>0</td>\n",
       "    </tr>\n",
       "  </tbody>\n",
       "</table>\n",
       "</div>"
      ],
      "text/plain": [
       "    average_age  loses\n",
       "0     26.585064     16\n",
       "1     27.952642     13\n",
       "2     24.563810     18\n",
       "3     27.494484     16\n",
       "4     27.447194     22\n",
       "5     27.662572      9\n",
       "6     24.777065     12\n",
       "7     26.002740      7\n",
       "8     26.710959     21\n",
       "9     26.540240     10\n",
       "10    27.161063      9\n",
       "11    24.771954     12\n",
       "12    26.588185     15\n",
       "13    28.836558     12\n",
       "14    28.295607     18\n",
       "15    26.632705      8\n",
       "16    27.408219     11\n",
       "17    24.946832     17\n",
       "18    27.431546     19\n",
       "19    25.815555      5\n",
       "20    27.635690      0"
      ]
     },
     "execution_count": 111,
     "metadata": {},
     "output_type": "execute_result"
    }
   ],
   "source": [
    "teams_pd = pd.DataFrame(team_for_pd)\n",
    "del teams_pd['name']\n",
    "teams_pd"
   ]
  },
  {
   "cell_type": "code",
   "execution_count": 112,
   "metadata": {},
   "outputs": [
    {
     "data": {
      "text/plain": [
       "array([[ 22.51366411,   2.96729955],\n",
       "       [ 23.67180265,   2.41093089],\n",
       "       [ 20.80195741,   3.338212  ],\n",
       "       [ 23.28380948,   2.96729955],\n",
       "       [ 23.24376216,   4.08003688],\n",
       "       [ 23.42615569,   1.669106  ],\n",
       "       [ 20.98255276,   2.22547466],\n",
       "       [ 22.02052049,   1.29819355],\n",
       "       [ 22.62027863,   3.89458066],\n",
       "       [ 22.47570444,   1.85456222],\n",
       "       [ 23.00145076,   1.669106  ],\n",
       "       [ 20.97822473,   2.22547466],\n",
       "       [ 22.51630702,   2.78184333],\n",
       "       [ 24.42035062,   2.22547466],\n",
       "       [ 23.96224398,   3.338212  ],\n",
       "       [ 22.55400942,   1.48364978],\n",
       "       [ 23.21075619,   2.04001844],\n",
       "       [ 21.12632112,   3.15275577],\n",
       "       [ 23.23051059,   3.52366822],\n",
       "       [ 21.86200202,   0.92728111],\n",
       "       [ 23.40339114,   0.        ]])"
      ]
     },
     "execution_count": 112,
     "metadata": {},
     "output_type": "execute_result"
    }
   ],
   "source": [
    "whitened = whiten(teams_pd.as_matrix())\n",
    "whitened"
   ]
  },
  {
   "cell_type": "markdown",
   "metadata": {},
   "source": [
    "5 кластеров"
   ]
  },
  {
   "cell_type": "code",
   "execution_count": 113,
   "metadata": {
    "scrolled": true
   },
   "outputs": [
    {
     "data": {
      "text/plain": [
       "(array([[ 22.22805909,   1.39092167],\n",
       "        [ 20.972264  ,   2.73547928],\n",
       "        [ 22.73351481,   3.15275577],\n",
       "        [ 23.52231784,   1.669106  ],\n",
       "        [ 23.47883891,   3.6473057 ]]),\n",
       " array([2, 3, 1, 2, 4, 3, 1, 0, 2, 0, 3, 1, 2, 3, 4, 0, 3, 1, 4, 0, 3]))"
      ]
     },
     "execution_count": 113,
     "metadata": {},
     "output_type": "execute_result"
    }
   ],
   "source": [
    "centroids, cluster_map = kmeans2(whitened, 5)\n",
    "centroids, cluster_map"
   ]
  },
  {
   "cell_type": "code",
   "execution_count": 114,
   "metadata": {
    "scrolled": true
   },
   "outputs": [],
   "source": [
    "colors_map = {0: 'r', 1: 'g', 2: 'b', 3: 'y', 4: 'm'}\n",
    "colors = [colors_map[c] for c in cluster_map]"
   ]
  },
  {
   "cell_type": "code",
   "execution_count": 115,
   "metadata": {},
   "outputs": [
    {
     "data": {
      "text/plain": [
       "<matplotlib.axes._subplots.AxesSubplot at 0x1d58933aa58>"
      ]
     },
     "execution_count": 115,
     "metadata": {},
     "output_type": "execute_result"
    },
    {
     "data": {
      "image/png": "[encoded data removed]",
      "text/plain": [
       "<matplotlib.figure.Figure at 0x1d5893220b8>"
      ]
     },
     "metadata": {},
     "output_type": "display_data"
    }
   ],
   "source": [
    "teams_pd.plot.scatter(x='average_age', y='loses', c=colors, s=100)"
   ]
  },
  {
   "cell_type": "markdown",
   "metadata": {},
   "source": [
    "3 кластера"
   ]
  },
  {
   "cell_type": "code",
   "execution_count": 116,
   "metadata": {},
   "outputs": [
    {
     "data": {
      "text/plain": [
       "(array([[ 23.27363658,   3.13214953],\n",
       "        [ 22.74424877,   1.36773964],\n",
       "        [ 20.972264  ,   2.73547928]]),\n",
       " array([0, 0, 2, 0, 0, 1, 2, 1, 0, 1, 1, 2, 0, 0, 0, 1, 1, 2, 0, 1, 1]))"
      ]
     },
     "execution_count": 116,
     "metadata": {},
     "output_type": "execute_result"
    }
   ],
   "source": [
    "centroids, cluster_map = kmeans2(whitened, 3)\n",
    "centroids, cluster_map"
   ]
  },
  {
   "cell_type": "code",
   "execution_count": 117,
   "metadata": {},
   "outputs": [],
   "source": [
    "colors_map = {0: 'r', 1: 'g', 2: 'b'}\n",
    "colors = [colors_map[c] for c in cluster_map]"
   ]
  },
  {
   "cell_type": "code",
   "execution_count": 118,
   "metadata": {},
   "outputs": [
    {
     "data": {
      "text/plain": [
       "<matplotlib.axes._subplots.AxesSubplot at 0x1d587391588>"
      ]
     },
     "execution_count": 118,
     "metadata": {},
     "output_type": "execute_result"
    },
    {
     "data": {
      "image/png": "[encoded data removed]",
      "text/plain": [
       "<matplotlib.figure.Figure at 0x1d5886efbe0>"
      ]
     },
     "metadata": {},
     "output_type": "display_data"
    }
   ],
   "source": [
    "teams_pd.plot.scatter(x='average_age', y='loses', c=colors, s=100)"
   ]
  },
  {
   "cell_type": "markdown",
   "metadata": {},
   "source": [
    "4 кластера"
   ]
  },
  {
   "cell_type": "code",
   "execution_count": 119,
   "metadata": {
    "scrolled": true
   },
   "outputs": [
    {
     "data": {
      "text/plain": [
       "(array([[ 20.972264  ,   2.73547928],\n",
       "        [ 23.29183511,   2.43742463],\n",
       "        [ 22.55284638,   1.20546544],\n",
       "        [ 23.26419884,   3.70912444]]),\n",
       " array([1, 1, 0, 1, 3, 1, 0, 2, 3, 2, 2, 0, 1, 1, 3, 2, 1, 0, 3, 2, 2]))"
      ]
     },
     "execution_count": 119,
     "metadata": {},
     "output_type": "execute_result"
    }
   ],
   "source": [
    "centroids, cluster_map = kmeans2(whitened, 4)\n",
    "centroids, cluster_map"
   ]
  },
  {
   "cell_type": "code",
   "execution_count": 120,
   "metadata": {},
   "outputs": [],
   "source": [
    "colors_map = {0: 'r', 1: 'g', 2: 'b', 3: 'y'}\n",
    "colors = [colors_map[c] for c in cluster_map]"
   ]
  },
  {
   "cell_type": "code",
   "execution_count": 121,
   "metadata": {},
   "outputs": [
    {
     "data": {
      "text/plain": [
       "<matplotlib.axes._subplots.AxesSubplot at 0x1d5894d36a0>"
      ]
     },
     "execution_count": 121,
     "metadata": {},
     "output_type": "execute_result"
    },
    {
     "data": {
      "image/png": "[encoded data removed]",
      "text/plain": [
       "<matplotlib.figure.Figure at 0x1d589368048>"
      ]
     },
     "metadata": {},
     "output_type": "display_data"
    }
   ],
   "source": [
    "teams_pd.plot.scatter(x='average_age', y='loses', c=colors, s=100)"
   ]
  }
 ],
 "metadata": {
  "kernelspec": {
   "display_name": "Python 3",
   "language": "python",
   "name": "python3"
  },
  "language_info": {
   "codemirror_mode": {
    "name": "ipython",
    "version": 3
   },
   "file_extension": ".py",
   "mimetype": "text/x-python",
   "name": "python",
   "nbconvert_exporter": "python",
   "pygments_lexer": "ipython3",
   "version": "3.6.4"
  }
 },
 "nbformat": 4,
 "nbformat_minor": 2
}
