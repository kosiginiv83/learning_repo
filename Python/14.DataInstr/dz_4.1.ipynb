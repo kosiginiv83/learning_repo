{
 "cells": [
  {
   "cell_type": "code",
   "execution_count": 1,
   "metadata": {},
   "outputs": [],
   "source": [
    "import pandas as pd\n",
    "from pprint import pprint"
   ]
  },
  {
   "cell_type": "code",
   "execution_count": 2,
   "metadata": {},
   "outputs": [],
   "source": [
    "DATA_PATH = './names/'"
   ]
  },
  {
   "cell_type": "markdown",
   "metadata": {},
   "source": [
    "\n",
    "Задача №1. \n",
    "С использованием Pandas написать функцию, которая загружает указанные года и выводит ТОП-3 популярных имен. Например:\n",
    "        count_top3([1880]) == ['John', 'William', 'Mary']\n",
    "        count_top3([1900, 1950, 2000]) == ['James', 'John', 'Robert']\n",
    "        "
   ]
  },
  {
   "cell_type": "code",
   "execution_count": 3,
   "metadata": {},
   "outputs": [],
   "source": [
    "def count_top3(years):\n",
    "    files = []\n",
    "    for year in years:\n",
    "        file = pd.read_csv(\n",
    "            f\"{DATA_PATH}yob{str(year)}.txt\",\n",
    "            names=['Name', 'Gender', 'Count']\n",
    "        )\n",
    "        files.append(file)\n",
    "    merge_file = pd.concat(files)\n",
    "    top3 = merge_file.sort_values(by='Count', ascending=False).head(3)\n",
    "    result = [top3.values[x][0] for x in range(len(top3))]\n",
    "    print(result)"
   ]
  },
  {
   "cell_type": "code",
   "execution_count": 4,
   "metadata": {
    "scrolled": true
   },
   "outputs": [
    {
     "name": "stdout",
     "output_type": "stream",
     "text": [
      "['John', 'William', 'Mary']\n",
      "['James', 'Robert', 'Linda']\n",
      "['James', 'David', 'Michael']\n"
     ]
    }
   ],
   "source": [
    "count_top3([1880])\n",
    "count_top3([1900, 1950, 2000])\n",
    "count_top3([1900, 1910, 1920, 1930, 1940, 1950, 1960, 1970, 1980, 1990, 2000])"
   ]
  },
  {
   "cell_type": "markdown",
   "metadata": {},
   "source": [
    "\n",
    "Задача №2. \n",
    "С использованием Pandas написать функцию, которая возвращает динамику изменения количества имен за указанные года в разрезе полов. Например:\n",
    "        count_dynamics([1900, 1950, 2000]) == {\n",
    "          'F': [299810, 1713259, 1814922],\n",
    "          'M': [150486, 1790871, 1962744]\n",
    "        }\n"
   ]
  },
  {
   "cell_type": "code",
   "execution_count": 5,
   "metadata": {},
   "outputs": [],
   "source": [
    "def count_dynamics(years):\n",
    "    count_dyn = {}\n",
    "    f_list = []\n",
    "    m_list = []\n",
    "    for year in years:\n",
    "        file = pd.read_csv(\n",
    "            f\"{DATA_PATH}yob{str(year)}.txt\",\n",
    "            names=['Name', 'Gender', 'Count']\n",
    "        )\n",
    "        f_count = file[file.Gender=='F'].Count.sum()\n",
    "        m_count = file[file.Gender=='M'].Count.sum()\n",
    "        f_list.append(f_count)\n",
    "        m_list.append(m_count)\n",
    "    count_dyn['F'] = f_list\n",
    "    count_dyn['M'] = m_list\n",
    "    pprint(count_dyn)"
   ]
  },
  {
   "cell_type": "code",
   "execution_count": 6,
   "metadata": {
    "scrolled": false
   },
   "outputs": [
    {
     "name": "stdout",
     "output_type": "stream",
     "text": [
      "{'F': [299810, 1713259, 1814922], 'M': [150486, 1790871, 1962744]}\n",
      "{'F': [299810, 1217384, 1713259, 1457817, 1814922],\n",
      " 'M': [150486, 1115950, 1790871, 1562252, 1962744]}\n"
     ]
    }
   ],
   "source": [
    "count_dynamics([1900, 1950, 2000])\n",
    "count_dynamics([1900, 1925, 1950, 1975, 2000])"
   ]
  },
  {
   "cell_type": "code",
   "execution_count": null,
   "metadata": {},
   "outputs": [],
   "source": []
  }
 ],
 "metadata": {
  "kernelspec": {
   "display_name": "Python 3",
   "language": "python",
   "name": "python3"
  },
  "language_info": {
   "codemirror_mode": {
    "name": "ipython",
    "version": 3
   },
   "file_extension": ".py",
   "mimetype": "text/x-python",
   "name": "python",
   "nbconvert_exporter": "python",
   "pygments_lexer": "ipython3",
   "version": "3.6.4"
  }
 },
 "nbformat": 4,
 "nbformat_minor": 2
}
